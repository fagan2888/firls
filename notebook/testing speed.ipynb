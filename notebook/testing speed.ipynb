{
 "cells": [
  {
   "cell_type": "code",
   "execution_count": 2,
   "metadata": {},
   "outputs": [
    {
     "name": "stderr",
     "output_type": "stream",
     "text": [
      "C:\\Users\\jchar\\OneDrive\\Documents\\firls\\firls\\ccd.py:52: NumbaPerformanceWarning: \u001b[1m\u001b[1m'@' is faster on contiguous arrays, called on (array(float64, 2d, A), array(float64, 2d, A))\u001b[0m\u001b[0m\n",
      "  beta = X.T @ y / sum_sq_X.reshape(p, 1)\n",
      "C:\\Users\\jchar\\OneDrive\\Documents\\firls\\firls\\ccd.py:54: NumbaPerformanceWarning: \u001b[1m\u001b[1m'@' is faster on contiguous arrays, called on (array(float64, 2d, A), array(float64, 2d, A))\u001b[0m\u001b[0m\n",
      "  XtX = X.T @ X\n",
      "C:\\Users\\jchar\\OneDrive\\Documents\\firls\\firls\\ccd.py:55: NumbaPerformanceWarning: \u001b[1m\u001b[1m'@' is faster on contiguous arrays, called on (array(float64, 2d, A), array(float64, 2d, A))\u001b[0m\u001b[0m\n",
      "  Xty = X.T @ y\n",
      "c:\\users\\jchar\\anaconda3\\lib\\site-packages\\numba\\typing\\npydecl.py:967: NumbaPerformanceWarning: \u001b[1m'@' is faster on contiguous arrays, called on (array(float64, 2d, A), array(float64, 2d, A))\u001b[0m\n",
      "  warnings.warn(NumbaPerformanceWarning(msg))\n",
      "c:\\users\\jchar\\anaconda3\\lib\\site-packages\\numba\\typing\\npydecl.py:967: NumbaPerformanceWarning: \u001b[1m'@' is faster on contiguous arrays, called on (array(float64, 2d, A), array(float64, 2d, A))\u001b[0m\n",
      "  warnings.warn(NumbaPerformanceWarning(msg))\n",
      "C:\\Users\\jchar\\OneDrive\\Documents\\firls\\firls\\irls.py:106: NumbaPerformanceWarning: \u001b[1m\u001b[1m'@' is faster on contiguous arrays, called on (array(float64, 2d, A), array(float64, 2d, A))\u001b[0m\u001b[0m\n",
      "  mu = np.exp(X @ w[1:] + w[0])\n",
      "C:\\Users\\jchar\\OneDrive\\Documents\\firls\\firls\\irls.py:108: NumbaPerformanceWarning: \u001b[1m\u001b[1m'@' is faster on contiguous arrays, called on (array(float64, 2d, A), array(float64, 2d, A))\u001b[0m\u001b[0m\n",
      "  mu = np.exp(X @ w)\n",
      "C:\\Users\\jchar\\OneDrive\\Documents\\firls\\firls\\irls.py:88: NumbaPerformanceWarning: \u001b[1m\u001b[1m'@' is faster on contiguous arrays, called on (array(float64, 2d, A), array(float64, 2d, F))\u001b[0m\u001b[0m\n",
      "  @ z_tilde\n",
      "C:\\Users\\jchar\\OneDrive\\Documents\\firls\\firls\\irls.py:91: NumbaPerformanceWarning: \u001b[1m\u001b[1m'@' is faster on contiguous arrays, called on (array(float64, 2d, A), array(float64, 2d, F))\u001b[0m\u001b[0m\n",
      "  w = np.linalg.inv(X_tilde.T @ X_tilde) @ X_tilde.T @ z_tilde\n",
      "c:\\users\\jchar\\anaconda3\\lib\\site-packages\\numba\\typing\\npydecl.py:967: NumbaPerformanceWarning: \u001b[1m'@' is faster on contiguous arrays, called on (array(float64, 2d, A), array(float64, 2d, F))\u001b[0m\n",
      "  warnings.warn(NumbaPerformanceWarning(msg))\n",
      "c:\\users\\jchar\\anaconda3\\lib\\site-packages\\numba\\typing\\npydecl.py:967: NumbaPerformanceWarning: \u001b[1m'@' is faster on contiguous arrays, called on (array(float64, 2d, A), array(float64, 2d, F))\u001b[0m\n",
      "  warnings.warn(NumbaPerformanceWarning(msg))\n",
      "c:\\users\\jchar\\anaconda3\\lib\\site-packages\\numba\\typing\\npydecl.py:967: NumbaPerformanceWarning: \u001b[1m'@' is faster on contiguous arrays, called on (array(float64, 2d, A), array(float64, 2d, A))\u001b[0m\n",
      "  warnings.warn(NumbaPerformanceWarning(msg))\n",
      "c:\\users\\jchar\\anaconda3\\lib\\site-packages\\numba\\typing\\npydecl.py:967: NumbaPerformanceWarning: \u001b[1m'@' is faster on contiguous arrays, called on (array(float64, 2d, A), array(float64, 2d, A))\u001b[0m\n",
      "  warnings.warn(NumbaPerformanceWarning(msg))\n"
     ]
    }
   ],
   "source": [
    "import os\n",
    "import sys\n",
    "sys.path.append(os.path.dirname(os.getcwd()))\n",
    "import firls\n",
    "from firls.tests import simulate\n",
    "import datetime"
   ]
  },
  {
   "cell_type": "code",
   "execution_count": null,
   "metadata": {},
   "outputs": [],
   "source": []
  },
  {
   "cell_type": "code",
   "execution_count": 5,
   "metadata": {},
   "outputs": [
    {
     "name": "stdout",
     "output_type": "stream",
     "text": [
      "0.011968\n",
      "0.11469\n",
      "4.920844\n"
     ]
    }
   ],
   "source": [
    "\n",
    "family = \"poisson\"\n",
    "sglm = firls.sklearn.GLM(family=family, fit_intercept=False)\n",
    "\n",
    "for i in [10,100,500]:\n",
    "    y, X, true_beta = simulate.simulate_supervised_poisson(10000, i)\n",
    "    start = datetime.datetime.now()\n",
    "    sglm = firls.sklearn.GLM(family=family, fit_intercept=False,solver=\"inv\")\n",
    "    sglm.fit(X, y)\n",
    "    end = datetime.datetime.now()\n",
    "    total_time  = (end - start).total_seconds()  \n",
    "    print(total_time)\n"
   ]
  },
  {
   "cell_type": "code",
   "execution_count": null,
   "metadata": {},
   "outputs": [],
   "source": [
    " \n",
    "family = \"poisson\"\n",
    "sglm = firls.sklearn.GLM(family=family, fit_intercept=False)\n",
    "\n",
    "for i in [10,100,500]:\n",
    "    y, X, true_beta = simulate.simulate_supervised_poisson(1000, i)\n",
    "    start = datetime.datetime.now()\n",
    "    sglm = firls.sklearn.GLM(family=family,lambda_l1=10, fit_intercept=False,solver=\"ccd\")\n",
    "    sglm.fit(X, y)\n",
    "    end = datetime.datetime.now()\n",
    "    total_time  = (end - start).total_seconds()  \n",
    "    print(total_time)\n"
   ]
  },
  {
   "cell_type": "code",
   "execution_count": null,
   "metadata": {},
   "outputs": [],
   "source": [
    " "
   ]
  },
  {
   "cell_type": "code",
   "execution_count": null,
   "metadata": {},
   "outputs": [],
   "source": [
    " "
   ]
  },
  {
   "cell_type": "code",
   "execution_count": null,
   "metadata": {},
   "outputs": [],
   "source": []
  }
 ],
 "metadata": {
  "kernelspec": {
   "display_name": "Python 3",
   "language": "python",
   "name": "python3"
  },
  "language_info": {
   "codemirror_mode": {
    "name": "ipython",
    "version": 3
   },
   "file_extension": ".py",
   "mimetype": "text/x-python",
   "name": "python",
   "nbconvert_exporter": "python",
   "pygments_lexer": "ipython3",
   "version": "3.6.3"
  }
 },
 "nbformat": 4,
 "nbformat_minor": 1
}
